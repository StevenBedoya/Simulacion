{
 "cells": [
  {
   "cell_type": "markdown",
   "metadata": {},
   "source": [
    "Comandos NetLogo\n",
    "\n",
    "crt 2 ;; crea dos tortugas (equivalente: create-turtles 2)\n",
    "\n",
    "forward ;; (fd) avanzar\n",
    "back ;; (bk) retroceder\n",
    "left ;; (lt) giro a la izquierda\n",
    "right ;; (rt) giro a la derecha\n",
    "repeat ;; repetir un conjunto de primitivas \n",
    "pen-up ;;(pu) subir el lápiz (los agentes no deja huella al moverse)\n",
    "pen-down ;;(pd) bajar el lápiz (los agentes dejan trazos al moverse)\n",
    "clear-all;;(ca) se resetean variables, se limpia “el mundo”, se borran gráficas, etc.\n",
    "\n",
    "Ejemplo:\n",
    "clear-all ;; (equivalente: ca)\n",
    "crt 1 ;; creamos 1 tortuga\n",
    "ask turtles [fd 5 rt 90 fd 5 rt 90 fd 5 rt 90 fd 5]"
   ]
  },
  {
   "cell_type": "markdown",
   "metadata": {},
   "source": [
    "Procedimientos NetLogo\n",
    "\n",
    "to comenzar      ;; definimos el nombre del procedimiento\n",
    "ca                                                    ;; clear-all\n",
    "crt 1                                                 ;; creamos una tortuga\n",
    "ask turtles [pd repeat 4 [fd 5 rt 90] pu]  ;; dibujamos el cuadrado\n",
    "end                                                  ;; fin del procedimiento\n",
    "\n",
    "\n",
    "\n",
    "to comenzar\n",
    "ca                                                        ;; clear-all\n",
    "ask patches [set pcolor blue]                    ;; mundo azul\n",
    "crt 1                                                     ;; creamos una tortuga\n",
    "ask turtles [set color orange set heading 0] ;; color naranja, orientación \"arriba\"\n",
    "ask turtles [pd repeat 4 [fd 5 rt 90] pu]      ;; dibujamos el cuadrado\n",
    "End\n",
    "\n",
    "\n",
    "crt 5\n",
    "ask turtles [fd 5]\n",
    "\n",
    "- Vamos a colocar la tortuga 2 en el punto x = 3 ; y = 4\n",
    "ask turtle 2 [set xcor 3 set ycor 4] ;; equivalente: ask turtle 2 [setxy 3 4]\n",
    "\n",
    "- Vamos a dar forma de tortuga a la tortuga 2:\n",
    "ask turtle 2 [set shape “turtle”]\n",
    "\n",
    "- Aumentamos el tamaño de esta misma tortuga:\n",
    "ask turtle 2 [set size 2]\n",
    "\n",
    "- Pedimos a la tortuga 2 que nos muestre su identificador\n",
    "ask turtle 2 [show who]"
   ]
  },
  {
   "cell_type": "markdown",
   "metadata": {},
   "source": [
    "Ejemplo.\n",
    "\n",
    ";; DECLARACIÓN DE RAZAS\n",
    "breed [coches coche]\n",
    "\n",
    ";; PROCEDIMIENTO SETUP (preparación)\n",
    "to setup\n",
    "ca                                  ;; clear-all\n",
    "set-default-shape coches \"car\"      ;; la raza coches tendrá forma de coche (car) por defecto\n",
    "ask patches [set pcolor white]      ;; mundo de color blanco\n",
    "create-coches 2                     ;; creamos 2 coches\n",
    "[\n",
    "  set xcor min-pxcor + 1            ;; los colocamos en la parte izquierda del mundo\n",
    "  set heading 90                    ;; definimos su orientación \"mirando\"\n",
    "]\n",
    "ask coche 0 [set ycor (- world-height / 4) set color green] ;; definimos el color y la coordenada y inicial del primer coche\n",
    "ask coche 1 [set ycor world-height / 4 set color orange]    ;; definimos el color y la coordenada y inicial del segundo coche\n",
    "end\n",
    "\n",
    ";; PROCEDIMIENTO GO (ejecución)\n",
    "to go\n",
    "while [all? coches [xcor < max-pxcor]]  ;; (*) mientras la coordenada x de todas las tortugas sea inferior a la coordenada x \n",
    "                                         ;; del patch situado más a la derecha se entra en el bucle y los\n",
    "                                         ;; coches seguirán desplazándose una cantidad aleatoria\n",
    "[\n",
    "  let distancia_coche_1 random 3         ;; en esta iteración, el coche 1 avanzará una distancia aleatoria entre 0 y 2\n",
    "  let distancia_coche_2 random 3         ;; en esta iteración, el coche 2 avanzará una distancia aleatoria entre 0 y 2       \n",
    "  ask coche 0 [fd distancia_coche_1]     ;; podimos el primer coche que avance la cantidad aleatoria obtenida\n",
    "  ask coche 1 [fd distancia_coche_2]     ;; podimos el primer coche que avance la cantidad aleatoria obtenida\n",
    "]\n",
    "end\n",
    "\n",
    "\n",
    "Un modelo basado en agentes (MBA) es un tipo de modelo computacional que permite la simulación de acciones e interacciones de individuos autónomos dentro de un entorno, y permite determinar qué efectos producen en el conjunto del sistema.1 2 Combina elementos de teoría de juegos, sistemas complejos, emergencia, sociología computacional, sistemas multi-agente, y programación evolutiva. Los modelos simulan las operaciones simultáneas de entidades múltiples (agentes) en un intento de recrear y predecir las acciones de fenómenos complejos. Es un proceso de emergencia desde el nivel más elemental (micro) al más elevado (macro).1\n",
    "\n",
    "Generalmente los agentes individuales actúan según lo que perciben como sus intereses propios, tales como reproducción, beneficio económico o status social, y su conocimiento es limitado. Los agentes MBA pueden experimentar “aprendizaje”, adaptación y reproducción."
   ]
  }
 ],
 "metadata": {
  "kernelspec": {
   "display_name": "Python 2",
   "language": "python",
   "name": "python2"
  },
  "language_info": {
   "codemirror_mode": {
    "name": "ipython",
    "version": 2
   },
   "file_extension": ".py",
   "mimetype": "text/x-python",
   "name": "python",
   "nbconvert_exporter": "python",
   "pygments_lexer": "ipython2",
   "version": "2.7.11"
  }
 },
 "nbformat": 4,
 "nbformat_minor": 0
}
