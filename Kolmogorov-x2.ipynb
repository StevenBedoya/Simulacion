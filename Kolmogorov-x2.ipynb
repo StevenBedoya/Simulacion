{
 "cells": [
  {
   "cell_type": "markdown",
   "metadata": {},
   "source": [
    "# Números Aleatorios\n",
    "\n",
    "En la unidad anterior se describio como primer paso de los experimentos de simulación, la selección de una fuente de números aleatorios y la obtención de los mismos. Por lo tanto, disponer de un buen generador de números aleatorios es fundamental en Simulación. De hecho, constituye también una parte fundamental en otras áreas, como la Informática (algoritmos aleatorizados, verificación de algoritmos, complejidad de algoritmos, criptografía, ...), la Estadística (métodos de muestreo y remuestreo, contrastes Montecarlo, Inferencia Bayesiana, ...), y, en general, en cualquier problema de cálculo científico que, de manera directa o indirecta, incluya algún elemento probabilístico incluyendo los juegos de video."
   ]
  },
  {
   "cell_type": "markdown",
   "metadata": {},
   "source": [
    "## ¿Porqué estudiar generadores de números aleatorios?\n",
    "\n",
    "Actualmente existen multiples generadores de números aleatorios en diferentes entornos y compiladores lo cual supondría para un usuario de la Simulación que no es necesario su estudio. Sin embargo, estudios sobre algunos generadores comerciales sugieren que debemos actuar con cuidado con el uso de ellos. Incluso, el uso progresivo de modelos de simulación cada vez más detallados exige generadores de números aleatorios de mayor calidad."
   ]
  },
  {
   "cell_type": "markdown",
   "metadata": {},
   "source": [
    "##¿Cómo generar números aleatorios?"
   ]
  },
  {
   "cell_type": "markdown",
   "metadata": {},
   "source": [
    "## ¿Cómo determinar si un generador de numeros aleatorios es apropiado?\n",
    "\n",
    "##Pruebas o contrastes empíricos\n",
    "\n",
    "Normalmente, pasaremos un conjunto de pruebas cuando introduzcamos un nuevo generador, o cuando deseamos analizar si un generador del que desconozcamos su algoritmo subyacente es suficientemente bueno para nuestros propósitos.\n"
   ]
  },
  {
   "cell_type": "markdown",
   "metadata": {},
   "source": [
    "### Constraste o prueba de Kolmogorov-Smirnov\n",
    "\n",
    "Consideramos el caso en que $F_0$ es continua. La función de distribución empírica de una muestra $X_1, X_2,...,X_n$ se define como:\n",
    "\n",
    "$$F_n(x)=\\frac{\\#\\{X_{i}\\leq x\\}}{n}$$\n",
    "\n",
    "Bajo la hipótesis nula $H_0:F_X(x)=F_0(x)$, esperamos que $F_n$ se aproxime a $F_0$. Definimos el estadístico bilateral de Kolmogorov-Smirnov\n",
    "\n",
    "$$D_{n}=\\underset{x\\in\\mathbb{R}}{\\sup}\\left|F_{n}(x)-F_{0}(x)\\right|$$\n",
    "\n",
    "La distribución exacta de $D_n$ está tabulada para valores seleccionados de $n\\leq40$ y del nivel de significación $\\alpha$. Para muestras grandes, se utiliza la distribución asintótica de $D_n$, que viene dada, para todo $z\\leq0$, por\n",
    "\n",
    "$$\\underset{n\\rightarrow\\infty}{\\lim}P(\\sqrt{n}D_{n}\\leq z)=L(z)=1-2\\overset{\\infty}{\\underset{i=1}{\\sum}}(-1)^{i-1}e^{-2i^{2}z^{2}}$$\n",
    "\n",
    "$L(z)$ está tabulada y se comprueba que la aproximación es suficientemente buena para $n\\geq35$. Intuitivamente, esperamos que $D_n$ sea pequeño cuando la hipótesis nula es cierta.\n",
    "En nuestro caso particula de aleatoriedad, si $X_{(1)}<X_{(2)}<...<X_{(n)}$ designa al estadístico de orden, $F_0(x_{(i)})=x_{(i)}$, y como $F_n(x_{(i)})=i/n$, resulta:\n",
    "\n",
    "$$D_{n}=\\underset{i\\leq i\\leq n}{\\max}\\left\\{ \\max\\left[\\left|\\frac{i}{n}-x_{(i)}\\right|,\\left|x_{(i)}-\\frac{i-1}{n}\\right|\\right]\\right\\}$$\n",
    "\n",
    "\n",
    "\n",
    "<img src=\"imgs/300px-KS_Example.png\" width=\"30%\" height=\"30%\" >\n",
    "<center>Figura. Ilustración del estadístico de Kolmogorov–Smirnov (K–S). La línea roja es una función de distribución acumulada (cumulative distribution function, CDF), la línea azul es una función empirica de distribución acumulada (empirical cumulative distribution function, ECDF), y la línea negra es el estadístico K–S. Imagen tomada de Wikipedia [https://en.wikipedia.org/wiki/Kolmogorov%E2%80%93Smirnov_test]</center>\n",
    "\n",
    "\n",
    "##Ejemplo"
   ]
  },
  {
   "cell_type": "code",
   "execution_count": 28,
   "metadata": {
    "collapsed": false
   },
   "outputs": [
    {
     "name": "stdout",
     "output_type": "stream",
     "text": [
      "\n"
     ]
    }
   ],
   "source": [
    "%matplotlib inline \n",
    "\n",
    "import numpy as np\n",
    "import scipy as sp\n",
    "import matplotlib.pyplot as plt\n",
    "\n",
    "N = 100"
   ]
  },
  {
   "cell_type": "code",
   "execution_count": 29,
   "metadata": {
    "collapsed": false
   },
   "outputs": [
    {
     "data": {
      "image/png": "[encoded data removed]",
      "text/plain": [
       "<matplotlib.figure.Figure at 0x7f546d6cd2d0>"
      ]
     },
     "metadata": {},
     "output_type": "display_data"
    },
    {
     "name": "stdout",
     "output_type": "stream",
     "text": [
      "('De = ', 0.24258030045920281)\n"
     ]
    },
    {
     "data": {
      "image/png": "[encoded data removed]",
      "text/plain": [
       "<matplotlib.figure.Figure at 0x7f54c90193d0>"
      ]
     },
     "metadata": {},
     "output_type": "display_data"
    },
    {
     "name": "stdout",
     "output_type": "stream",
     "text": [
      "('D = ', 0.24258030045920259)\n",
      "('p-value = ', 1.1509888075966757e-05)\n"
     ]
    }
   ],
   "source": [
    "def grafica(x):\n",
    "    \n",
    "    plt.subplot(2,1,1)\n",
    "    count, bins, ignored = plt.hist(x, 25, normed=True)\n",
    "    plt.plot(bins, np.ones_like(bins), linewidth=2, color='r')\n",
    "    plt.show()\n",
    "    \n",
    "    plt.subplot(2,1,2)\n",
    "    x1 = np.arange(1/float(N),1+1/float(N),1/float(N))\n",
    "    y1 = np.cumsum(np.sort(u)/np.max(np.cumsum(u)))\n",
    "\n",
    "    x2 = np.sort(x)\n",
    "    y2 = np.cumsum(np.sort(x)/np.max(np.cumsum(x)))\n",
    "\n",
    "    De=np.absolute(y2-y1)\n",
    "    #print(D)\n",
    "    print(\"De = \",np.max(De))\n",
    "\n",
    "    # Plotting\n",
    "    plt.plot(x1,y1,label='Uniform')\n",
    "    plt.step(x2,y2,label='Random')\n",
    "    x3 = [x1[De.argmax()],x1[De.argmax()]]\n",
    "    y3 = [np.min([y1[De.argmax()],y2[De.argmax()]]),np.max([y1[De.argmax()],y2[De.argmax()]])]\n",
    "    plt.step(x3,y3,label='D')\n",
    "\n",
    "    #plt.plot(x1,De,label='De')\n",
    "\n",
    "    plt.legend()\n",
    "    plt.xlabel('X')\n",
    "    plt.ylabel('Cumulative Probability P(X)')\n",
    "    #plt.title('arbitrary')\n",
    "    #plt.xscale('log')\n",
    "    #plt.yscale('log')\n",
    "\n",
    "    #plt.xlim(0, np.max([np.max(whitney),np.max(redwell)])+0.05)\n",
    "    plt.ylim(0, 1.05)\n",
    "\n",
    "    plt.show()\n",
    "    \n",
    "    from scipy import stats\n",
    "    D,pvalue = stats.kstest(y2, 'uniform')\n",
    "    print(\"D = \", D)\n",
    "    print(\"p-value = \", pvalue)\n",
    "\n",
    "#Generador Numpy\n",
    "u = [1.0] * N    \n",
    "x = np.random.uniform(0,1,N)\n",
    "grafica(x)"
   ]
  },
  {
   "cell_type": "code",
   "execution_count": 30,
   "metadata": {
    "collapsed": false
   },
   "outputs": [
    {
     "data": {
      "image/png": "[encoded data removed]",
      "text/plain": [
       "<matplotlib.figure.Figure at 0x7f546d6cd150>"
      ]
     },
     "metadata": {},
     "output_type": "display_data"
    },
    {
     "name": "stdout",
     "output_type": "stream",
     "text": [
      "('De = ', 0.2697867703182607)\n"
     ]
    },
    {
     "data": {
      "image/png": "[encoded data removed]",
      "text/plain": [
       "<matplotlib.figure.Figure at 0x7f546d875fd0>"
      ]
     },
     "metadata": {},
     "output_type": "display_data"
    },
    {
     "name": "stdout",
     "output_type": "stream",
     "text": [
      "('D = ', 0.26978677031826048)\n",
      "('p-value = ', 6.41830056657966e-07)\n"
     ]
    }
   ],
   "source": [
    "def mixto(semilla,a,c,m):\n",
    "    xo=semilla\n",
    "    gen=[]\n",
    "    ax=a\n",
    "    cx=c\n",
    "    md=m\n",
    "    for i in range(N):\n",
    "        mod=(ax*xo+cx)%md\n",
    "        div=float(mod)/md\n",
    "        xo=mod\n",
    "        gen.append(div)\n",
    "    #print(ga)\n",
    "    return gen\n",
    "##Generador \n",
    "xa=mixto(4,515,1,2**35)\n",
    "grafica(xa)\n",
    "\n"
   ]
  },
  {
   "cell_type": "code",
   "execution_count": 31,
   "metadata": {
    "collapsed": false
   },
   "outputs": [
    {
     "data": {
      "image/png": "[encoded data removed]",
      "text/plain": [
       "<matplotlib.figure.Figure at 0x7f546d9dcb50>"
      ]
     },
     "metadata": {},
     "output_type": "display_data"
    },
    {
     "name": "stdout",
     "output_type": "stream",
     "text": [
      "('De = ', 0.23948221970163636)\n"
     ]
    },
    {
     "data": {
      "image/png": "[encoded data removed]",
      "text/plain": [
       "<matplotlib.figure.Figure at 0x7f5475d91c90>"
      ]
     },
     "metadata": {},
     "output_type": "display_data"
    },
    {
     "name": "stdout",
     "output_type": "stream",
     "text": [
      "('D = ', 0.23948221970163613)\n",
      "('p-value = ', 1.5665459268676685e-05)\n"
     ]
    }
   ],
   "source": [
    "#Generador RanduX\n",
    "xb=mixto(21,65539,0,(2**31))\n",
    "grafica(xb)"
   ]
  },
  {
   "cell_type": "code",
   "execution_count": 32,
   "metadata": {
    "collapsed": false
   },
   "outputs": [
    {
     "data": {
      "image/png": "[encoded data removed]",
      "text/plain": [
       "<matplotlib.figure.Figure at 0x7f546d9df390>"
      ]
     },
     "metadata": {},
     "output_type": "display_data"
    },
    {
     "name": "stdout",
     "output_type": "stream",
     "text": [
      "('De = ', 0.21454773300891317)\n"
     ]
    },
    {
     "data": {
      "image/png": "[encoded data removed]",
      "text/plain": [
       "<matplotlib.figure.Figure at 0x7f546d4650d0>"
      ]
     },
     "metadata": {},
     "output_type": "display_data"
    },
    {
     "name": "stdout",
     "output_type": "stream",
     "text": [
      "('D = ', 0.21454773300891294)\n",
      "('p-value = ', 0.0001610988230476007)\n"
     ]
    }
   ],
   "source": [
    "#Generador Sinclair\n",
    "xc=mixto(21,75,0,(2**16)+1)\n",
    "grafica(xc)"
   ]
  },
  {
   "cell_type": "code",
   "execution_count": 33,
   "metadata": {
    "collapsed": false
   },
   "outputs": [
    {
     "data": {
      "image/png": "[encoded data removed]",
      "text/plain": [
       "<matplotlib.figure.Figure at 0x7f54739ab150>"
      ]
     },
     "metadata": {},
     "output_type": "display_data"
    },
    {
     "name": "stdout",
     "output_type": "stream",
     "text": [
      "('De = ', 0.25461458214365507)\n"
     ]
    },
    {
     "data": {
      "image/png": "[encoded data removed]",
      "text/plain": [
       "<matplotlib.figure.Figure at 0x7f546d30bc10>"
      ]
     },
     "metadata": {},
     "output_type": "display_data"
    },
    {
     "name": "stdout",
     "output_type": "stream",
     "text": [
      "('D = ', 0.25461458214365484)\n",
      "('p-value = ', 3.3410624418195312e-06)\n"
     ]
    }
   ],
   "source": [
    "#Generador Numerical reciepes\n",
    "xd=mixto(21,1664525,1013904223,(2**32))\n",
    "grafica(xd)"
   ]
  },
  {
   "cell_type": "code",
   "execution_count": 34,
   "metadata": {
    "collapsed": false,
    "scrolled": true
   },
   "outputs": [
    {
     "data": {
      "image/png": "[encoded data removed]",
      "text/plain": [
       "<matplotlib.figure.Figure at 0x7f546d4399d0>"
      ]
     },
     "metadata": {},
     "output_type": "display_data"
    },
    {
     "name": "stdout",
     "output_type": "stream",
     "text": [
      "('De = ', 0.20871530542543343)\n"
     ]
    },
    {
     "data": {
      "image/png": "[encoded data removed]",
      "text/plain": [
       "<matplotlib.figure.Figure at 0x7f546d274250>"
      ]
     },
     "metadata": {},
     "output_type": "display_data"
    },
    {
     "name": "stdout",
     "output_type": "stream",
     "text": [
      "('D = ', 0.20871530542543321)\n",
      "('p-value = ', 0.00026742487145980931)\n"
     ]
    }
   ],
   "source": [
    "#Generador Borland\n",
    "xe=mixto(21,22695477,1,(2**32))\n",
    "grafica(xe)"
   ]
  },
  {
   "cell_type": "markdown",
   "metadata": {},
   "source": [
    "### Contraste o prueba  $\\chi^{2}$\n",
    "\n",
    "La prueba $\\chi^{2}$ es de bondad de ajuste. Es poco potente, por lo que permite justificar el rechazo de una hipótesis, pero proporciona escaso soporte a su aceptación. El problema de bondad de ajuste se plantea como sigue. Tenemos una muestra $X_1, X_2,...,X_n$ de una población con distribución $F_X(x)$ desconocida. Deseamos contrastar la hipótesis nula $H_0:F_X(x)=F_0(x)$, para todo $x\\in\\mathbb{R}$, donde $F_0(x)$ está completamente especificada, frente a la alternativa $H_1:F_X(x) \\neq F_0(x)$ para algún $x$.\n",
    "Para realizar el contraste, partimos el soporte de $X$ en $k$ subconjuntos o clases mutuamente excluyentes. Para cada subconjunto $i$, $i=1,...,k$, calculamos el número $f_i$ de observaciones que caen en la clase y el numero esperado de observaciones $e_i$ bajo la distribución hipotética $F_0$. El estadístico de la prueba es:\n",
    "\n",
    "$$\\chi^{2}=\\overset{k}{\\underset{i=1}{\\sum}}\\frac{(f_{i}-e_{i})^{2}}{e_{i}}$$\n",
    "\n",
    "cuya distribución asintótica es una $\\chi_{k-r-1}^{2}$, donde $r$ es el número de parámetros que se estiman a partir de las observaciones. La aproximación se considera aceptada si $\\min\\left\\{ e_{i}>5\\right\\}$. Intuitivamente, el estadístico tiende a ser pequeño bajo la hipótesis nula, y grande cuando ésta es falsa, con lo qu ese deduce inmediatamente un contraste de hipótesis. La potencia del contraste crece con el número $k$ de subconjuntos considerados.\n",
    "\n",
    "En nuestro problema de aleatoriedad, $F_0$ es la función de distribución de la uniforme en [0,1], con lo que $r=0$. Además, pueden cogerse $k$ subintervalos de [0,1] de igual longitud, con lo que $e_i=n/k$.\n"
   ]
  },
  {
   "cell_type": "code",
   "execution_count": 35,
   "metadata": {
    "collapsed": false
   },
   "outputs": [
    {
     "name": "stdout",
     "output_type": "stream",
     "text": [
      " Datos Generador Propio  [11, 13, 7, 13, 10, 8, 7, 10, 8, 13]\n",
      " Valor Estadistico  5.4\n"
     ]
    }
   ],
   "source": [
    "k=10\n",
    "ei=N/float(k)\n",
    "xk=[]\n",
    "dfi=[]\n",
    "f=1/float(k)\n",
    "\n",
    "def fi(y):\n",
    "    cont=[]\n",
    "    gal=y\n",
    "    xr=0\n",
    "    for i in range(k):\n",
    "        xr=f+xr\n",
    "        xk.append(xr)\n",
    "        cont.append(0)\n",
    "    #print xk\n",
    "    for i in range(N):\n",
    "        for j in range(k):\n",
    "            if(gal[i]<=xk[j]):\n",
    "                cont[j]=cont[j]+1\n",
    "                break\n",
    "    return cont\n",
    "    print cont\n",
    "print \" Datos Generador Propio \",fi(xa)\n",
    "ixa=fi(xa)\n",
    "def valorest(v):\n",
    "    ix=v\n",
    "    l=0\n",
    "    for i in range(k):\n",
    "        xchi=(ix[i]-ei)**2/float(ei)\n",
    "        l=l+xchi\n",
    "    return l\n",
    "print \" Valor Estadistico \",valorest(ixa)"
   ]
  },
  {
   "cell_type": "code",
   "execution_count": 36,
   "metadata": {
    "collapsed": false
   },
   "outputs": [
    {
     "name": "stdout",
     "output_type": "stream",
     "text": [
      " Datos Generador Numpy [9, 8, 11, 11, 9, 7, 12, 9, 12, 12]\n",
      " Valor Estadistico: "
     ]
    },
    {
     "ename": "NameError",
     "evalue": "name 'valorEst' is not defined",
     "output_type": "error",
     "traceback": [
      "\u001b[1;31m---------------------------------------------------------------------------\u001b[0m",
      "\u001b[1;31mNameError\u001b[0m                                 Traceback (most recent call last)",
      "\u001b[1;32m<ipython-input-36-b28fa61bf886>\u001b[0m in \u001b[0;36m<module>\u001b[1;34m()\u001b[0m\n\u001b[0;32m      1\u001b[0m \u001b[1;32mprint\u001b[0m \u001b[1;34m\" Datos Generador Numpy\"\u001b[0m\u001b[1;33m,\u001b[0m\u001b[0mfi\u001b[0m\u001b[1;33m(\u001b[0m\u001b[0mx\u001b[0m\u001b[1;33m)\u001b[0m\u001b[1;33m\u001b[0m\u001b[0m\n\u001b[0;32m      2\u001b[0m \u001b[0mixa\u001b[0m\u001b[1;33m=\u001b[0m\u001b[0mfi\u001b[0m\u001b[1;33m(\u001b[0m\u001b[0mx\u001b[0m\u001b[1;33m)\u001b[0m\u001b[1;33m\u001b[0m\u001b[0m\n\u001b[1;32m----> 3\u001b[1;33m \u001b[1;32mprint\u001b[0m \u001b[1;34m\" Valor Estadistico: \"\u001b[0m\u001b[1;33m,\u001b[0m\u001b[0mvalorEst\u001b[0m\u001b[1;33m(\u001b[0m\u001b[0mixa\u001b[0m\u001b[1;33m)\u001b[0m\u001b[1;33m\u001b[0m\u001b[0m\n\u001b[0m",
      "\u001b[1;31mNameError\u001b[0m: name 'valorEst' is not defined"
     ]
    }
   ],
   "source": [
    "print \" Datos Generador Numpy\",fi(x)\n",
    "ixa=fi(x)\n",
    "print \" Valor Estadistico: \",valorEst(ixa)"
   ]
  },
  {
   "cell_type": "code",
   "execution_count": null,
   "metadata": {
    "collapsed": false
   },
   "outputs": [],
   "source": [
    "print \" Datos Generador RaNDUx \",fi(xb)\n",
    "ixa=fi(xb)\n",
    "print \" Valor Estadistico: \",valorEst(ixa)"
   ]
  },
  {
   "cell_type": "code",
   "execution_count": null,
   "metadata": {
    "collapsed": false
   },
   "outputs": [],
   "source": [
    "print \" Datos Generador Sinclair \",fi(xc)\n",
    "ixa=fi(xc)\n",
    "print \" Valor Estadistico: \",valorEst(ixa)"
   ]
  },
  {
   "cell_type": "code",
   "execution_count": null,
   "metadata": {
    "collapsed": false
   },
   "outputs": [],
   "source": [
    "print \" Datos Generador NumericalS \",fi(xd)\n",
    "ixa=fi(xd)\n",
    "print \" Valor Estadistico: \",valorEst(ixa)"
   ]
  },
  {
   "cell_type": "code",
   "execution_count": null,
   "metadata": {
    "collapsed": false
   },
   "outputs": [],
   "source": [
    "print \" Datos Generador Borland \",fi(xe)\n",
    "ixa=fi(xe)\n",
    "print \" Valor Estadistico: \",valorEst(ixa)"
   ]
  },
  {
   "cell_type": "markdown",
   "metadata": {},
   "source": [
    "### Constraste o prueba de rachas\n",
    "\n",
    "Dada la sucesión de observaciones $X_1, X_2,...,X_n$, construimos la sucesión de simbolos binarios definida mediante 1 si $X_i<X_{i+1}$, 0 si $X_i>X_{i+1}$. Definimos  racha creciente (decreciente) de longitud $l$ a un grupo seguido de $l$ números 1 (ó 0). Contabilizamos el número de rachas. Sabemos que su distribución asintótica, bajo la hipótesis nula de aleatoriedad, es:\n",
    "\n",
    "$$N\\left(\\frac{2n-1}{3},\\frac{16n-29}{90}\\right)$$\n",
    "\n",
    "Intuitivamente, rechazamos la aleatoriedad con un número muy pequeño o muy grande de rachas. De ahí se obtiene inmediatamente la prueba.\n",
    "\n",
    "###Contraste de rachas por encima y por debajo de la mediana\n",
    "\n",
    "Otro procedimiento para definir rachas se tiene del recuento de observaciones que se sitúan a un mismo lado de la mediana. La distribución asintótica del número de rachas, bajo la hipótesis de aleatoriedad, es:\n",
    "\n",
    "$$N\\left(1+\\frac{n}{2},\\frac{n}{2}\\right)$$\n",
    "\n",
    "de donde se sigue, inmediatamente una prueba."
   ]
  },
  {
   "cell_type": "markdown",
   "metadata": {},
   "source": [
    "###Contraste o prueba de permutaciones\n",
    "\n",
    "Separamos las observaciones en $k$-uplas:\n",
    "\n",
    "$$(U_1,U_2,...,U_k),...,(U_{ik+1},U_{ik+2},...,U_{(i+1)k}),...$$\n",
    "\n",
    "La $k$-upla general se escribe:\n",
    "\n",
    "$$(U_{ik+j})_{j=1}^k$$\n",
    "\n",
    "La ordenamos crecientemente y consideramos la ordenación correspondiente de los subíndices $j$. Bajo la hipótesis de que la probabilidad de que dos números sean iguales es nula, hay $k!$ ordenaciones posibles. Bajo la hipótesis de independencia, todas las permutaciones son equiprobables, con probabilidad $1/k!$. Entonces es inmediato aplicar una prueba $\\chi^2$ con $k!$ clases, distribución asintótica $\\chi_{k!-1}^2$, frecuencias esperadas $r/k!$, onde $r$ es el número de $k$-uplas y frecuencias observadas el número de veces que aparece cada ordenación."
   ]
  },
  {
   "cell_type": "markdown",
   "metadata": {},
   "source": [
    "### Contraste o prueba de huecos\n",
    "\n",
    "Fijamos dos valores $\\alpha$ y $\\beta$ con $0<\\alpha<\\beta<1$. La sucesión presenta un hueco de longitud $m$ si $U_j, U_{j+m}\\in\\left[\\alpha,\\beta\\right]$ pero $U_{j+1},...,U_{j+m+1}\\notin\\left[\\alpha,\\beta\\right]$. Bajo la hipótesis de aleatoriedad de la serie, la longitud $m$ de los huecos sigue una distribución geométrica de parámetro $P(\\alpha\\leq X_{j}\\leq\\beta)=\\beta-\\alpha=\\rho$, es decir:\n",
    "\n",
    "$$P(hueco\\: longitud\\: m)=\\rho(1-\\rho)^{m-1}$$.\n",
    "\n",
    "La hipótesis de aleatoriedad implica independencia de las longitudes de los huecos y podemos aplicar una prueba $\\chi^2$ basado en las comparacioens de los números observados y esperados de huecos de longitud $m$."
   ]
  },
  {
   "cell_type": "markdown",
   "metadata": {},
   "source": [
    "###Repetición de contrastes o pruebas\n",
    "\n",
    "Para aumentar su potencia, los contrastes anteriores pueden repetirse $N$ veces. La distribución empírica de los valores del estadístico pueden compararse con su distribución teórica mediante, por ejemplo, el contraste de Kolmogorov-Smirnov."
   ]
  },
  {
   "cell_type": "markdown",
   "metadata": {},
   "source": [
    "#T3: Taller 3. Ejercicios\n",
    "* Tomando como base éste Notebook, implementar los contrastes o pruebas de Kolmogorov-Smirnov, $\\chi^2$, rachas, permutaciones y huecos en la sección correspondiente para evaluar la calidad de cualquier secuencia de números obtenidas por un generador de números aleatorios $U(0,1)$ utilizando tanto el generador de numpy como el implementado por Ud previamente.\n",
    "* Evaluar la calidad de los siguientes generadores de números aleatorios usando las pruebas implementadas en el punto anterior:\n",
    "    * RANDU $x_{i+1}=65539 x_i \\mod 2^31$\n",
    "    * Sinclair ZX81 $x_{i+1}=75 x_i \\mod (2^{16}+1)$\n",
    "    * Numerical reciepes $x_{i+1}= 1664525 x_i + 1013904223 \\mod 2^{32}$\n",
    "    * Borland C/C++ $x_{i+1}= 22695477 x_i + 1 \\mod 2^{32}$\n",
    "* Elabore un reporte en $\\LaTeX$ con formato de artículo científico usando OverLeaf (URL: https://www.overleaf.com/) describiendo la teoría principal, la metodología usada, presentando los resultados (incluyendo graficas), realizando un análisis y discusión de los resultados, finalizando con las principales conclusiones."
   ]
  },
  {
   "cell_type": "markdown",
   "metadata": {},
   "source": [
    "#Referencias\n",
    "\n",
    "[Ríos, Ríos & Martín, 2000] David Ríos, Sixto Ríos, Jacinto Martín. Simulación, Métodos y aplicaciones. Editorial Alfaomega, 2000."
   ]
  },
  {
   "cell_type": "code",
   "execution_count": null,
   "metadata": {
    "collapsed": true
   },
   "outputs": [],
   "source": []
  }
 ],
 "metadata": {
  "kernelspec": {
   "display_name": "Python 2",
   "language": "python",
   "name": "python2"
  },
  "language_info": {
   "codemirror_mode": {
    "name": "ipython",
    "version": 2
   },
   "file_extension": ".py",
   "mimetype": "text/x-python",
   "name": "python",
   "nbconvert_exporter": "python",
   "pygments_lexer": "ipython2",
   "version": "2.7.10"
  }
 },
 "nbformat": 4,
 "nbformat_minor": 0
}
