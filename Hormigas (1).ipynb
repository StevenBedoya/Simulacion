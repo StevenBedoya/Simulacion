{
 "cells": [
  {
   "cell_type": "markdown",
   "metadata": {
    "slideshow": {
     "slide_type": "-"
    }
   },
   "source": [
    "\n",
    "\n",
    "Optimización basada en Colonia de Hormigas\n",
    "\n",
    "Problema del Agente Viajero\n",
    "\n",
    "\n",
    "Pxy = T(e)* n(e) / Sum [T(e)*n(e)]\n",
    "\n",
    "Txy = [(1-p)*Txy] + Sum (Txy)\n",
    "\n",
    "Sum (Txy) = { 1/Lk Si viaja entre x e y /// 0 si no viaja }\n",
    "\n",
    "T(e) = Feromonas\n",
    "n(e) = Visibilidad = 1/Lk (Costo Inverso)\n",
    "\n",
    "T(e) = 0.1\n",
    "\n",
    "  -> -----(2) Costo = 5.1\n",
    "\n",
    "(1) ->  -----(3) Costo = 3.1\n",
    "\n",
    "  ->  -----(5) Costo = 3.9\n",
    "  \n",
    "  \n",
    "  \n"
   ]
  },
  {
   "cell_type": "code",
   "execution_count": 4,
   "metadata": {
    "collapsed": false
   },
   "outputs": [
    {
     "name": "stdout",
     "output_type": "stream",
     "text": [
      "0.0775069332944\n",
      "0.252981795355\n",
      "0.416195856874\n",
      "0.330822347772\n"
     ]
    }
   ],
   "source": [
    "\n",
    "#Sum [T(e)*n(e)]\n",
    "\n",
    "t = 0.1\n",
    "\n",
    "n12=(1/5.1)\n",
    "n13=(1/3.1)\n",
    "n15=(1/3.9)\n",
    "\n",
    "suma=(t*n12)+(t*n13)+(t*n15)\n",
    "\n",
    "print suma;\n",
    "\n",
    "#Pxy\n",
    "\n",
    "#P 1 -> 2\n",
    "\n",
    "Pxy1= (t*n12)/suma\n",
    "\n",
    "print Pxy1\n",
    "\n",
    "\n",
    "#Pxy\n",
    "\n",
    "#P 1 -> 3\n",
    "\n",
    "Pxy2= (t*n13)/suma\n",
    "\n",
    "print Pxy2\n",
    "\n",
    "\n",
    "#Pxy\n",
    "\n",
    "#P 1 -> 5\n",
    "\n",
    "Pxy2= (t*n15)/suma\n",
    "\n",
    "print Pxy3\n",
    "\n",
    "## Generar número aleatorio.\n",
    "\n",
    "##Mayor probabilidad Pxy2 Se toma ese camino y se continúa\n"
   ]
  },
  {
   "cell_type": "markdown",
   "metadata": {},
   "source": [
    "  -> -----(6) Costo = 2.3\n",
    "\n",
    "(3) ->  -----(7) Costo = 1.2\n",
    "\n",
    "  ->  -----(8) Costo = 4.7\n",
    "  \n",
    "\n",
    "Continuar...\n",
    "\n",
    "\n",
    "Camino de Hormiga 1\n",
    "\n",
    "1-3-6-5-4 Costo = 16.5\n",
    "\n",
    "Camino de Hormiga 2\n",
    "\n",
    "1-3-5-4 Costo = 14.6\n",
    "\n",
    "\n",
    "Encontrar nuevo T(e)\n",
    "\n",
    "Txy = [(1-p)*Txy] + Sum (Txy)\n",
    "\n",
    "Ej\n",
    "\n",
    "T12 = [(1-p)*T12] + (Hormiga1 + Hormiga2)\n",
    "\n",
    "Generar todos los caminos y verificar si la hormiga pasó por él para hallar la nueva Feromona\n",
    "Volver a iterar...\n",
    "\n",
    "https://pypi.python.org/pypi/ACO-Pants/0.5.2\n",
    "\n"
   ]
  },
  {
   "cell_type": "code",
   "execution_count": null,
   "metadata": {
    "collapsed": true
   },
   "outputs": [],
   "source": []
  }
 ],
 "metadata": {
  "kernelspec": {
   "display_name": "Python 2",
   "language": "python",
   "name": "python2"
  },
  "language_info": {
   "codemirror_mode": {
    "name": "ipython",
    "version": 2
   },
   "file_extension": ".py",
   "mimetype": "text/x-python",
   "name": "python",
   "nbconvert_exporter": "python",
   "pygments_lexer": "ipython2",
   "version": "2.7.11"
  }
 },
 "nbformat": 4,
 "nbformat_minor": 0
}
